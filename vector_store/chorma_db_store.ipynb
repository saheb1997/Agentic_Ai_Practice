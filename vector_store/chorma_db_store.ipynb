{
 "cells": [
  {
   "cell_type": "code",
   "execution_count": 15,
   "id": "f4d4980a",
   "metadata": {},
   "outputs": [],
   "source": [
    "from langchain_community.document_loaders import TextLoader\n",
    "from langchain.text_splitter import CharacterTextSplitter\n",
    "from langchain_community.embeddings import OllamaEmbeddings\n",
    "from langchain_community.vectorstores import Chroma"
   ]
  },
  {
   "cell_type": "markdown",
   "id": "20ad00af",
   "metadata": {},
   "source": [
    "### load the documents"
   ]
  },
  {
   "cell_type": "code",
   "execution_count": 5,
   "id": "3600183c",
   "metadata": {},
   "outputs": [
    {
     "data": {
      "text/plain": [
       "[Document(metadata={'source': '/Users/sahebsarkar/Desktop/projects/Agentic_Ai_Practice/Data_ingesion/spech.txt'}, page_content='Artificial Intelligence (AI) is a branch of computer science focused on creating systems capable of performing tasks that typically require human intelligence. These tasks include learning, reasoning, problem-solving, perception, language understanding, and decision-making.\\n\\nAI can be categorized into two main types: narrow AI and general AI. Narrow AI, also known as weak AI, is designed to perform a specific task, such as voice recognition or image classification. General AI, or strong AI, refers to systems that possess the ability to understand, learn, and apply knowledge across a wide range of tasks, similar to human intelligence. However, general AI remains largely theoretical at this stage.\\n\\nMachine learning (ML) is a subset of AI that enables systems to learn from data and improve their performance over time without being explicitly programmed. ML algorithms identify patterns in data and use these patterns to make predictions or decisions. Deep learning, a further subset of ML, uses artificial neural networks with many layers to model complex patterns in large datasets.\\n\\nNatural language processing (NLP) is another important area of AI. NLP enables machines to understand, interpret, and generate human language. Applications of NLP include chatbots, language translation, sentiment analysis, and speech recognition.\\n\\nComputer vision is a field of AI that allows machines to interpret and understand visual information from the world, such as images and videos. Computer vision is used in facial recognition, autonomous vehicles, medical imaging, and more.\\n\\nAI has numerous real-world applications. In healthcare, AI assists in diagnosing diseases, personalizing treatment plans, and managing patient data. In finance, AI is used for fraud detection, algorithmic trading, and customer service automation. In manufacturing, AI optimizes production processes and predictive maintenance.\\n\\nAutonomous vehicles rely heavily on AI to perceive their environment, make decisions, and navigate safely. AI-powered virtual assistants, such as Siri, Alexa, and Google Assistant, help users manage tasks, answer questions, and control smart devices.\\n\\nAI also plays a significant role in entertainment, powering recommendation systems for music, movies, and online content. In education, AI personalizes learning experiences and automates administrative tasks.\\n\\nDespite its many benefits, AI presents challenges and ethical concerns. Issues such as data privacy, algorithmic bias, job displacement, and the potential misuse of AI technologies require careful consideration and regulation.\\n\\nAI systems are only as good as the data they are trained on. Poor-quality or biased data can lead to inaccurate or unfair outcomes. Transparency and explainability in AI decision-making are important for building trust and accountability.\\n\\nThe development of AI is driven by advances in hardware, such as powerful GPUs, and the availability of large datasets. Open-source frameworks like TensorFlow and PyTorch have made AI research and development more accessible.\\n\\nAI research continues to push the boundaries of what machines can do. Areas of active research include reinforcement learning, transfer learning, generative models, and explainable AI.\\n\\nReinforcement learning enables agents to learn optimal actions through trial and error, receiving feedback in the form of rewards or penalties. This approach has been used to train AI systems to play games, control robots, and optimize resource allocation.\\n\\nGenerative models, such as Generative Adversarial Networks (GANs) and large language models, can create new content, including images, music, and text. These models have applications in creative industries, data augmentation, and simulation.\\n\\nExplainable AI aims to make AI systems more transparent and understandable to humans. This is crucial for applications in sensitive domains like healthcare and law, where understanding the reasoning behind AI decisions is essential.\\n\\nAI is transforming industries and society, offering new opportunities and challenges. As AI technologies continue to evolve, it is important to ensure they are developed and used responsibly, with consideration for ethical, legal, and social implications.\\n\\nThe future of AI holds great promise, with the potential to solve complex problems, improve quality of life, and drive economic growth. Collaboration between researchers, policymakers, and industry stakeholders is essential to harness the benefits of AI while mitigating its risks.\\n\\nIn summary, AI is a rapidly advancing field with the potential to revolutionize many aspects of our lives. Its continued development will depend on responsible innovation, ethical considerations, and a commitment to using technology for the greater good.')]"
      ]
     },
     "execution_count": 5,
     "metadata": {},
     "output_type": "execute_result"
    }
   ],
   "source": [
    "loader = TextLoader(\"/Users/sahebsarkar/Desktop/projects/Agentic_Ai_Practice/Data_ingesion/spech.txt\")\n",
    "documents= loader.load()\n",
    "documents"
   ]
  },
  {
   "cell_type": "markdown",
   "id": "2c89af36",
   "metadata": {},
   "source": [
    "### spliting the documents"
   ]
  },
  {
   "cell_type": "code",
   "execution_count": 6,
   "id": "8c83d3fd",
   "metadata": {},
   "outputs": [],
   "source": [
    "text_spliter = CharacterTextSplitter(chunk_size= 1000, chunk_overlap=30)\n",
    "docs=text_spliter.split_documents(documents)"
   ]
  },
  {
   "cell_type": "markdown",
   "id": "4c7e97f1",
   "metadata": {},
   "source": [
    "### Embeding and store in data base"
   ]
  },
  {
   "cell_type": "code",
   "execution_count": 16,
   "id": "17e6bec6",
   "metadata": {},
   "outputs": [
    {
     "data": {
      "text/plain": [
       "<langchain_community.vectorstores.chroma.Chroma at 0x11a666e00>"
      ]
     },
     "execution_count": 16,
     "metadata": {},
     "output_type": "execute_result"
    }
   ],
   "source": [
    "embedding = OllamaEmbeddings()\n",
    "db=Chroma.from_documents(docs,embedding)\n",
    "db\n"
   ]
  },
  {
   "cell_type": "code",
   "execution_count": 18,
   "id": "825fbac6",
   "metadata": {},
   "outputs": [
    {
     "name": "stdout",
     "output_type": "stream",
     "text": [
      "page_content='AI has numerous real-world applications. In healthcare, AI assists in diagnosing diseases, personalizing treatment plans, and managing patient data. In finance, AI is used for fraud detection, algorithmic trading, and customer service automation. In manufacturing, AI optimizes production processes and predictive maintenance.\n",
      "\n",
      "Autonomous vehicles rely heavily on AI to perceive their environment, make decisions, and navigate safely. AI-powered virtual assistants, such as Siri, Alexa, and Google Assistant, help users manage tasks, answer questions, and control smart devices.\n",
      "\n",
      "AI also plays a significant role in entertainment, powering recommendation systems for music, movies, and online content. In education, AI personalizes learning experiences and automates administrative tasks.' metadata={'source': '/Users/sahebsarkar/Desktop/projects/Agentic_Ai_Practice/Data_ingesion/spech.txt'}\n"
     ]
    }
   ],
   "source": [
    "query= \"AI also plays a significant role in entertainment, powering recommendation systems for music, movies, and online content. In education, AI personalizes learning experiences and automates administrative tasks.\"\n",
    "retrive_result = db.similarity_search(query)\n",
    "print(retrive_result[0])"
   ]
  }
 ],
 "metadata": {
  "kernelspec": {
   "display_name": "Python 3",
   "language": "python",
   "name": "python3"
  },
  "language_info": {
   "codemirror_mode": {
    "name": "ipython",
    "version": 3
   },
   "file_extension": ".py",
   "mimetype": "text/x-python",
   "name": "python",
   "nbconvert_exporter": "python",
   "pygments_lexer": "ipython3",
   "version": "3.10.18"
  }
 },
 "nbformat": 4,
 "nbformat_minor": 5
}
